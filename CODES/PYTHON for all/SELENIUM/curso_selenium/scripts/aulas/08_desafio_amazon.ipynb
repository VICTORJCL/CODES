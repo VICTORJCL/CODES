{
 "cells": [
  {
   "cell_type": "code",
   "execution_count": 1,
   "id": "5bbb166e",
   "metadata": {},
   "outputs": [],
   "source": [
    "from selenium import webdriver\n",
    "from selenium.webdriver.chrome.service import Service\n",
    "from selenium.webdriver.common.by import By\n",
    "from webdriver_manager.chrome import ChromeDriverManager\n",
    "from selenium.webdriver.common.action_chains import ActionChains\n",
    "\n",
    "from time import sleep"
   ]
  },
  {
   "cell_type": "code",
   "execution_count": 2,
   "id": "ae9ba2b4-2a3f-43da-b998-7940714d77b4",
   "metadata": {},
   "outputs": [],
   "source": [
    "service = Service(ChromeDriverManager().install())\n",
    "driver = webdriver.Chrome(service=service)\n",
    "\n",
    "driver.get('https://www.amazon.com.br/')"
   ]
  },
  {
   "cell_type": "markdown",
   "id": "99c9b182",
   "metadata": {},
   "source": [
    "### Abre o menu hamburguer e clica em Produtos em alta"
   ]
  },
  {
   "cell_type": "code",
   "execution_count": 3,
   "id": "fb9ee9aa",
   "metadata": {},
   "outputs": [],
   "source": [
    "xpath = '//a[@aria-label=\"Abrir Menu\"]'\n",
    "menu_hamburguer = driver.find_element(By.XPATH, xpath)\n",
    "menu_hamburguer.click()"
   ]
  },
  {
   "cell_type": "code",
   "execution_count": 4,
   "id": "8d1e7e44",
   "metadata": {},
   "outputs": [],
   "source": [
    "xpath = '//a[@class=\"hmenu-item\" and text()=\"Produtos em alta\"]'\n",
    "caixa_prod_alta = driver.find_element(By.XPATH, xpath)\n",
    "caixa_prod_alta.click()"
   ]
  },
  {
   "cell_type": "markdown",
   "id": "73675397",
   "metadata": {},
   "source": [
    "### Scrola para fazer load de todos carroseis"
   ]
  },
  {
   "cell_type": "code",
   "execution_count": 7,
   "id": "366ea2bd",
   "metadata": {},
   "outputs": [],
   "source": [
    "carrosseis = driver.find_elements(By.XPATH, '//div[contains(@id, \"anonCarousel\")]')"
   ]
  },
  {
   "cell_type": "code",
   "execution_count": 8,
   "id": "46da4213",
   "metadata": {},
   "outputs": [],
   "source": [
    "i = 0\n",
    "while i < len(carrosseis):\n",
    "    carrossel = carrosseis[i]\n",
    "    action = ActionChains(driver)\n",
    "    action.scroll_to_element(carrossel)\n",
    "    action.perform()\n",
    "    sleep(1)\n",
    "    carrosseis = driver.find_elements(By.XPATH, '//div[contains(@id, \"anonCarousel\")]')\n",
    "    i += 1"
   ]
  },
  {
   "cell_type": "code",
   "execution_count": 9,
   "id": "a8397d71",
   "metadata": {},
   "outputs": [
    {
     "data": {
      "text/plain": [
       "['Eletrodomésticos',\n",
       " 'Esporte',\n",
       " 'Cozinha',\n",
       " 'Eletrônicos',\n",
       " 'Papelaria e Escritório',\n",
       " 'Beleza']"
      ]
     },
     "execution_count": 9,
     "metadata": {},
     "output_type": "execute_result"
    }
   ],
   "source": [
    "titulos = driver.find_elements(By.XPATH, '//h2[@class=\"a-carousel-heading a-inline-block\"]')\n",
    "titulos = [t.text.replace('Produtos em alta em ', '') for t in titulos]\n",
    "titulos"
   ]
  },
  {
   "cell_type": "markdown",
   "id": "b009d863",
   "metadata": {},
   "source": [
    "### Pega todos os cards do carrossel"
   ]
  },
  {
   "cell_type": "code",
   "execution_count": 24,
   "id": "f06e9e27",
   "metadata": {},
   "outputs": [
    {
     "name": "stdout",
     "output_type": "stream",
     "text": [
      "===================== Eletrodomésticos =====================\n",
      "Classificação de vendas: 187 (anterior: 591) Fogão Brastemp 4 Bocas Inox Bfo4nbr - Bivolt\n",
      "Classificação de vendas: 338 (anterior: 1.017) Lava e Seca Smart LG 11kg Aço Escovado com Inteligência Artificial AIDD™ VC4-CV5011TS4A 220V\n",
      "Classificação de vendas: 21 (anterior: 62) Frigobar, 45L, Branco, 220v, Midea\n",
      "Classificação de vendas: 218 (anterior: 641) Forno de Embutir Elétrico Brastemp 84 Litros Cor Inox com Convecção e Termômetro Meat Control - BOT84AR 220V\n",
      "Classificação de vendas: 298 (anterior: 846) Centrifuga de Roupas Giromax 15 Kg Prata 220V - SUGGAR - CT1502PR\n",
      "===================== Esporte =====================\n",
      "Classificação de vendas: 141 (anterior: 3.852) Epic Pré Treino 300g - Probiotica (Guaraná com Laranja)\n",
      "Classificação de vendas: 195 (anterior: 851) Óculos de Natação Essential VN501 2 Tamanho Único Vollo Sports\n",
      "Classificação de vendas: 57 (anterior: 244) Lanterna Tatica Portatil Led Super Forte Recarregavel Usb Potente UBRX\n",
      "Classificação de vendas: 319 (anterior: 1.223) Garrafa de Água Colorida 1 litro, Squeeze Garrafinha Água para Academia, Adesivos 2d e 3d, Frases Motivacionais, à Prova de…\n",
      "Classificação de vendas: 71 (anterior: 247) Bola de Pilates Overball Muvin – Tamanho 25cm - Soft Gym –– Com Bico Para Inflar – Ginástica – Pilates – Yoga – Fisioterapia – Treino…\n",
      "Classificação de vendas: 345 (anterior: 1.190) KIT 2 Joelheira De Compressão Articulação Dores Ortopédica, Joelheira Longa\n",
      "Classificação de vendas: 161 (anterior: 550) GARRAFA SUPER-HEROINAS ROSA\n",
      "Classificação de vendas: 255 (anterior: 829) Palmex Hidrolight Ajustável\n",
      "Classificação de vendas: 384 (anterior: 1.239) Bola De Futevôlei Altinha Dawi Competition Oficial Futvolei\n",
      "Classificação de vendas: 323 (anterior: 999) Tala Longa Para Punho Bilateral, Kestal, Preta, M\n",
      "Classificação de vendas: 68 (anterior: 210) Tubing Kit 11 peças Elásticos para Exercício Extensor Funcional\n",
      "Classificação de vendas: 236 (anterior: 723) Hand Grip exercício Dedos Mãos Punho Fisioterapia Fortalecedor de Mão exercitador dedos e punho Kit 5 Pçs\n",
      "Classificação de vendas: 70 (anterior: 207) Protetor Bucal Arcada Superior Profissional Moldável - Spank\n",
      "Classificação de vendas: 41 (anterior: 114) Touca de Natação 3D Vollo Sports\n",
      "Classificação de vendas: 130 (anterior: 358) Cotoveleira Tennis Elbow Ajustável, Kestal, Preta, UN\n",
      "Classificação de vendas: 212 (anterior: 573) Fita Kinésio Multilaser Muscle Fix 5x500cm Rolo Preto - HC040\n",
      "Classificação de vendas: 315 (anterior: 845) Inflador Elétrico Bomba Dupla Função Inflar E Desinflar 110V\n",
      "Classificação de vendas: 320 (anterior: 856) Capacete Infantil Spider Man com Regulagem Nathor\n",
      "Classificação de vendas: 284 (anterior: 757) Protetor de Canela/Caneleira com Tornozeleira- Júnior - Pegasus - Pentagol\n",
      "Classificação de vendas: 348 (anterior: 892) Bola Peso Heavy Tonning Ball 1kg Liveup\n",
      "===================== Cozinha =====================\n",
      "Classificação de vendas: 231 (sem classificação anterior) Mini Processador Alimentos Elétrico 250ml Sem Fio - Tritura Alho, Pimenta, Frutas e Legumes - Praticidade na Cozinha Diária (Verde Musgo)\n",
      "Classificação de vendas: 171 (anterior: 8.613) Copo Quencher Stanley Pool | 1,18L\n",
      "Classificação de vendas: 78 (anterior: 1.527) CAFETEIRA ITALIANA LUXO EM INOX 4 CAFES EXPRESSOS XICARAS\n",
      "Classificação de vendas: 229 (anterior: 3.752) Porta Tempero Condimento Redondo Inox 16 Potes Giratório (Preto)\n",
      "Classificação de vendas: 83 (anterior: 1.339) BUBA Garrafa Termica Parede Dupla 400 Ml Gumy - Azul, Azul, Tamanho único, Hora da Papinha\n",
      "Classificação de vendas: 249 (anterior: 3.349) Micro-ondas Electrolux Efficient 23L (ME23B) - 220V, Cor: Branca\n",
      "Classificação de vendas: 82 (anterior: 951) Electrolux Micro-Ondas com Função Tira Odor (MTO30), Branco, 20 Litros, 127V\n",
      "Classificação de vendas: 163 (anterior: 1.386) Conjunto Utensílio Cozinha Em Aço Inox Kit 7 Peças - Prata\n",
      "Classificação de vendas: 260 (anterior: 1.356) POTE QUADRADO PEQUENO C/TRAVAS 370 ML TRANSPARENTE\n",
      "Classificação de vendas: 240 (anterior: 1.001) Grill Elétrico Hamilton Beach, Preto, 110v\n",
      "Classificação de vendas: 141 (anterior: 531) Jogo Facas Inox 6 peças Plenus Preto - Tramontina\n",
      "Classificação de vendas: 152 (anterior: 450) Micro-Ondas, MI41S, 31L, Prata, 110v, Electrolux\n",
      "Classificação de vendas: 14 (anterior: 41) Potes Herméticos Porta-Mantimentos com Tampa de Bambu Electrolux - 4 unidades\n",
      "Classificação de vendas: 338 (anterior: 987) Forma Panela Forro Para Cozimento Airfryer Sem Sujeira Reutilizável (Cinza)\n",
      "Classificação de vendas: 190 (anterior: 468) Stanley Copo Quencher 2.0 | 887 ml\n",
      "Classificação de vendas: 7 (anterior: 17) Marmita Lunch Box Preta Electrolux\n",
      "Classificação de vendas: 339 (anterior: 817) Pipoqueira Antiaderente Tampa de Vidro 4,20 Litros Cereja Brinox 7102/157\n",
      "Classificação de vendas: 379 (anterior: 904) Moedor de Temperos Philco Inox PMD01I\n",
      "Classificação de vendas: 344 (anterior: 778) Jogo de 6 xicaras Irish Coffee em vidro 125ml\n",
      "Classificação de vendas: 377 (anterior: 811) Conjunto de medidores, Colheres, Top Pratic, Inox, Brinox\n",
      "===================== Eletrônicos =====================\n",
      "Classificação de vendas: 151 (anterior: 461) Smart TV 32” Philco PTV32G23AGSSBLH Android TV LED\n",
      "Classificação de vendas: 2 (anterior: 6) Headphone Philips bluetooth on-ear com microfone e energia para 15 horas na cor preto TAH1108BK/55\n",
      "Classificação de vendas: 41 (anterior: 102) Apple iPhone 13 (128 GB) - Rosa\n",
      "Classificação de vendas: 71 (anterior: 171) Tablet Samsung Galaxy Tab S6 Lite, 64GB, 4GB RAM, Tela Imersiva de 10.4', Câmera Traseira 8MP, Câmera frontal de 5MP, Wifi,…\n",
      "Classificação de vendas: 183 (anterior: 431) Notebook Lenovo IdeaPad 3i i3-1115G4 4GB 256GB SSD Intel UHD Graphics Windows 11 15.6', Cinza, 82MD000ABR\n",
      "Classificação de vendas: 378 (anterior: 884) Microsoft 365 Personal\n",
      "Classificação de vendas: 156 (anterior: 336) Smart TV Philips 50\" 4K 50PUG7408/78, Google TV, Comando de Voz, Dolby Vision/Atmos, VRR/ALLM,…\n",
      "Classificação de vendas: 56 (anterior: 110) Samsung Smart TV Crystal 43\" 4K UHD CU7700 - Alexa built in, Samsung Gaming Hub\n",
      "Classificação de vendas: 147 (anterior: 281) HQ Smart TV LED 32\" HD Conversor Digital Externo 3 HDMI 2 USB WI-FI Android 11 Design Slim\n",
      "Classificação de vendas: 348 (anterior: 660) SSD Crucial P3 1TB NVMe PCIe M.2 2280 - CT1000P3SSD8\n",
      "Classificação de vendas: 190 (anterior: 356) Fone de Ouvido XT80 Esportivo Bluetooth 5.3 Sem Fio TWS À Prova D'água HiFi Com Cancelamento De Ruído…\n",
      "Classificação de vendas: 36 (anterior: 65) Apple iPhone 13 (128 GB) - Meia-noite\n",
      "Classificação de vendas: 77 (anterior: 139) Samsung Galaxy A14 4G , Preto , 64GB\n",
      "Classificação de vendas: 289 (anterior: 516) Notebook Lenovo IdeaPad 1i Celeron + Microsoft 365 Personal 4GB 128GB SSD W11 15.6\" 82VX0001BR Prata\n",
      "Classificação de vendas: 266 (anterior: 470) Monitor 23.8” Dell S2421HN\n",
      "Classificação de vendas: 112 (anterior: 195) BATERIA ALCALINA A23 12V com 5 82195, Elgin\n",
      "Classificação de vendas: 225 (anterior: 389) Lenovo 82MD0007BR IdeaPad 3i i5 - Notebook-1135G7 8GB 256GB SSD Placa de Vídeo Intel Iris Xe Windows 11 15.6', Cinza\n",
      "Classificação de vendas: 347 (anterior: 598) Fast Smart TV LED 32'', PTV32M8GAGCMBLH, Philco, Google Play, Dolby Audio\n",
      "Classificação de vendas: 39 (anterior: 67) Caixa de Pilha AAA com 40 unidades Elgin Palito - Tubo, Zinco\n",
      "Classificação de vendas: 295 (anterior: 497) Kingston A400 SSD Interno SA400S37/120GB - Para Desktop/Notebooks\n",
      "===================== Papelaria e Escritório =====================\n",
      "Classificação de vendas: 1 (anterior: 467) Caderneta Filibook, Filiperson, 03938, Kraft e Marfim, 30 Folhas Lisas, 14x9 cm, Pacote com 2\n",
      "Classificação de vendas: 325 (anterior: 2.340) Papel Sulfite A4, HP Premium, 90g, Branco, 500 Folhas\n",
      "Classificação de vendas: 118 (anterior: 729) Kit Lettering BIC, c/ 6 Brush Pens + 1 Pincel Marcador Pastel Rosa + 2 Intensity Ponta Fina + 2 Intensiy Ponta Média + 2 Lápis Pretos,…\n",
      "Classificação de vendas: 105 (anterior: 539) Pacote com 2 fitas de fita métrica para costura de tecido corporal, tecido de costura, tecido de tricô para artesanato doméstico, 150…\n",
      "Classificação de vendas: 231 (anterior: 1.009) Giz Gel Aquarelável, Maped, Color Peps Macio, 836310, 10 Cores\n",
      "Classificação de vendas: 399 (anterior: 1.705) Kit Plastificadora Refiladora 3x1 A4 + 100 Plástico Plastificação KP08 (110)\n",
      "Classificação de vendas: 98 (anterior: 366) Tilibra - Perfurador 1 furo 8 folhas P205 - 1 un\n",
      "Classificação de vendas: 358 (anterior: 1.128) Caderno Universitário Basic 1x1 96 Folhas Pautado Incolor Confetti\n",
      "Classificação de vendas: 189 (anterior: 589) Calculadora de Mesa 12 Dígitos MV 4124 Preta Elgin\n",
      "Classificação de vendas: 7 (anterior: 21) Pincel Marcador de Quadro Branco BIC Markingc/4 cores fashion 930094\n",
      "Classificação de vendas: 331 (anterior: 991) Porta lembrete/lápis/clips cristal 3031.h Dello\n",
      "Classificação de vendas: 121 (anterior: 356) Suporte para Notebook Tablet Regulavel Ergonomico Universal Ajustável Dobrável Portatil AlphaDomus\n",
      "Classificação de vendas: 382 (anterior: 1.041) Fichário 4 Argolas A4 com 96 Folhas e 5 Divisórias, Ton Verde\n",
      "Classificação de vendas: 172 (anterior: 452) Giz de Cera Retrátil 12 Cores, BRW\n",
      "Classificação de vendas: 292 (anterior: 748) Marcador Dualtip, Bismark, PK0100C062, Ponta Dupla, Amarelo\n",
      "Classificação de vendas: 62 (anterior: 157) Tilibra - Refil Tiliflex para Caderno Argolado Universitário Pautado, Académie, 232092, 20x27.5cm, Branca, 80 Folhas\n",
      "Classificação de vendas: 360 (anterior: 909) CANSON Iris Vivaldi, Papel Colorido A4 Sortido em Pacote de 25 Folhas Soltas, 10 Cores Sortidos\n",
      "Classificação de vendas: 185 (anterior: 451) Caneta Marca Texto, Masterprint, Amarela, Caixa com 12\n",
      "Classificação de vendas: 338 (anterior: 793) Tilibra - Caderno Cartografia e Desenho Pepper Azul 80 folhas - 1 un\n",
      "Classificação de vendas: 259 (anterior: 602) Caneta Marca Texto Gel, Faber-Castell, SuperSoft, 155707, Amarelo, 6 Unidades\n",
      "===================== Beleza =====================\n",
      "Classificação de vendas: 3 (anterior: 427) Johnson's Baby Shampoo Para Bebê De Glicerina, 200ml\n",
      "Classificação de vendas: 31 (anterior: 2.558) NEON BRUSH - ESCOVA PARA DESEMBARACAR./AMARELO, Océane\n",
      "Classificação de vendas: 35 (anterior: 1.394) Algodão em Disco Duo Face York 50 unidades, York\n",
      "Classificação de vendas: 112 (anterior: 1.818) PHEBO - Colônia Origens Gerânio Bourbon 200ml\n",
      "Classificação de vendas: 7 (anterior: 95) Risqué Felicidade - Esmalte Cremoso, Vermelho, 8ml\n",
      "Classificação de vendas: 41 (anterior: 409) Gokujyun Oil Cleasing - Óleo Removedor de Maquiagem com Ácido Hialurônico 200ml, Hada Labo\n",
      "Classificação de vendas: 225 (anterior: 1.606) Kit Queridinhos Maybelline NY Batom Líquido Matte ink 65 Seductress + Máscara de Cílios Colossal Lavável + Corretivo…\n",
      "Classificação de vendas: 309 (anterior: 2.093) PHEBO - Deo Colônia Alfazema Provençal 200ml\n",
      "Classificação de vendas: 11 (anterior: 69) Neutrogena Sun Fresh Protetor Solar Corporal FPS 90, 200ml\n",
      "Classificação de vendas: 85 (anterior: 471) REFIL SAB.BEBE CAMO. 250ML, Granado\n",
      "Classificação de vendas: 90 (anterior: 492) Sebastian Professional Dark Oil Óleo Capilar 95 ml\n",
      "Classificação de vendas: 74 (anterior: 359) PHEBO - Deo Colônia Limão Siciliano 200ml\n",
      "Classificação de vendas: 47 (anterior: 183) Neutrogena Gel de Limpeza Acne Proofing, 200ml\n",
      "Classificação de vendas: 93 (anterior: 247) Lixa Colors, Ricca\n",
      "Classificação de vendas: 233 (anterior: 608) Sab Em Barra Dove Karite 90G\n",
      "Classificação de vendas: 346 (anterior: 778) SHAMPOO BEBE CAMOMILA 250ML, Granado\n",
      "Classificação de vendas: 272 (anterior: 599) PHEBO - Deo Colônia Nectarina da Andaluzia 200ml\n",
      "Classificação de vendas: 354 (anterior: 772) Autobronzeador em Mousse, Skelt, Multicor\n",
      "Classificação de vendas: 34 (anterior: 74) Sabonete Líquido de Glicerina Hidratação Relaxante Dove Baby Hora de Dormir Sachê 180ml Refil, Baby Dove\n",
      "Classificação de vendas: 242 (anterior: 523) LENÇOS UMEDECIDOS, Ricca,Variação Estampas\n"
     ]
    }
   ],
   "source": [
    "carrosseis = driver.find_elements(By.XPATH, '//div[contains(@id, \"anonCarousel\")]')\n",
    "for i in range(len(carrosseis)):\n",
    "    print('=====================', titulos[i], '=====================')\n",
    "    carrossel = carrosseis[i]\n",
    "    while True:\n",
    "        xpath = './/li[@class=\"a-carousel-card\"]'\n",
    "        cards = carrossel.find_elements(By.XPATH, xpath)\n",
    "\n",
    "        for card in cards:\n",
    "            sales_mov = card.find_element(By.XPATH, './/span[contains(@class, \"sales-movement\")]')\n",
    "            nome_prod = card.find_element(By.XPATH, './/a[@class = \"a-link-normal\"]/span/div')\n",
    "            print(sales_mov.text, nome_prod.text)\n",
    "\n",
    "        posinset = cards[-1].get_attribute('aria-posinset')\n",
    "        setsize = cards[-1].get_attribute('aria-setsize')\n",
    "        if posinset == setsize:\n",
    "            break\n",
    "        else:\n",
    "            xpath = './../..//a[@class=\"a-button a-button-image a-carousel-button a-carousel-goto-nextpage\"]'\n",
    "            botao_next = carrossel.find_element(By.XPATH, xpath)\n",
    "            botao_next.click()\n",
    "            sleep(1)\n",
    "    carrosseis = driver.find_elements(By.XPATH, '//div[contains(@id, \"anonCarousel\")]')\n",
    "\n"
   ]
  },
  {
   "cell_type": "markdown",
   "id": "409dd19b",
   "metadata": {},
   "source": [
    "### Loop para pegar todos os cards do carrossel"
   ]
  },
  {
   "cell_type": "code",
   "execution_count": null,
   "id": "299bdb86",
   "metadata": {},
   "outputs": [],
   "source": []
  }
 ],
 "metadata": {
  "kernelspec": {
   "display_name": "Python 3 (ipykernel)",
   "language": "python",
   "name": "python3"
  },
  "language_info": {
   "codemirror_mode": {
    "name": "ipython",
    "version": 3
   },
   "file_extension": ".py",
   "mimetype": "text/x-python",
   "name": "python",
   "nbconvert_exporter": "python",
   "pygments_lexer": "ipython3",
   "version": "3.11.4"
  }
 },
 "nbformat": 4,
 "nbformat_minor": 5
}
