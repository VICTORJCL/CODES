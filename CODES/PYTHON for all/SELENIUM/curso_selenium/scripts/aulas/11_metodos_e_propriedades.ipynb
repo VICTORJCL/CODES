{
 "cells": [
  {
   "cell_type": "code",
   "execution_count": 1,
   "id": "5bbb166e",
   "metadata": {},
   "outputs": [],
   "source": [
    "from selenium import webdriver\n",
    "from selenium.webdriver.chrome.service import Service\n",
    "from selenium.webdriver.common.by import By\n",
    "from webdriver_manager.chrome import ChromeDriverManager\n",
    "\n",
    "\n",
    "from time import sleep"
   ]
  },
  {
   "cell_type": "code",
   "execution_count": 5,
   "id": "299bdb86",
   "metadata": {},
   "outputs": [],
   "source": [
    "service = Service(ChromeDriverManager().install())\n",
    "driver = webdriver.Chrome(service=service)"
   ]
  },
  {
   "cell_type": "code",
   "execution_count": 6,
   "id": "dba10c04",
   "metadata": {},
   "outputs": [],
   "source": [
    "driver.get('https://www.google.com')"
   ]
  },
  {
   "cell_type": "markdown",
   "id": "fdca9800",
   "metadata": {},
   "source": [
    "### Métodos e atributos do driver"
   ]
  },
  {
   "cell_type": "code",
   "execution_count": 4,
   "id": "39a08bb9",
   "metadata": {},
   "outputs": [],
   "source": [
    "# close\n",
    "driver.close()"
   ]
  },
  {
   "cell_type": "code",
   "execution_count": 7,
   "id": "1b61f209",
   "metadata": {},
   "outputs": [],
   "source": [
    "# back\n",
    "driver.back()"
   ]
  },
  {
   "cell_type": "code",
   "execution_count": 8,
   "id": "e352a53c",
   "metadata": {},
   "outputs": [],
   "source": [
    "# forward\n",
    "driver.forward()"
   ]
  },
  {
   "cell_type": "code",
   "execution_count": 9,
   "id": "03afb997",
   "metadata": {},
   "outputs": [],
   "source": [
    "# fullscreen_window\n",
    "driver.fullscreen_window()"
   ]
  },
  {
   "cell_type": "code",
   "execution_count": 10,
   "id": "6718de0b",
   "metadata": {},
   "outputs": [],
   "source": [
    "# maximize_window\n",
    "driver.maximize_window()"
   ]
  },
  {
   "cell_type": "code",
   "execution_count": 11,
   "id": "5a01b435",
   "metadata": {},
   "outputs": [
    {
     "data": {
      "text/plain": [
       "True"
      ]
     },
     "execution_count": 11,
     "metadata": {},
     "output_type": "execute_result"
    }
   ],
   "source": [
    "# get_screenshot_as_file\n",
    "driver.get_screenshot_as_file('screns.png')\n"
   ]
  },
  {
   "cell_type": "code",
   "execution_count": 12,
   "id": "a51bf3e7",
   "metadata": {},
   "outputs": [
    {
     "data": {
      "text/plain": [
       "'https://www.google.com/search?q=python&sca_esv=574459239&source=hp&ei=Q-8vZd6PAsHZ1sQPnJmb-A4&iflsig=AO6bgOgAAAAAZS_9U-Ci14ZoMOpWE6wPpz2YOCrD9ZYc&oq=pytho&gs_lp=Egdnd3Mtd2l6IgVweXRobyoCCAAyCxAAGIAEGLEDGIMBMgsQABiABBixAxiDATIIEAAYgAQYsQMyBRAAGIAEMgsQABiABBixAxiDATILEAAYgAQYsQMYgwEyCxAAGIAEGLEDGIMBMgsQABiABBixAxiDATIFEAAYgAQyBRAuGIAESPsSUI4EWKsLcAF4AJABAJgBgQGgAcMEqgEDMS40uAEDyAEA-AEBqAIKwgIQEAAYAxiPARjlAhjqAhiMA8ICEBAuGAMYjwEY5QIY6gIYjAPCAgsQLhiABBixAxiDAcICCxAAGIoFGLEDGIMBwgILEC4YgAQYxwEYrwE&sclient=gws-wiz'"
      ]
     },
     "execution_count": 12,
     "metadata": {},
     "output_type": "execute_result"
    }
   ],
   "source": [
    "# current_url\n",
    "driver.current_url"
   ]
  },
  {
   "cell_type": "code",
   "execution_count": 13,
   "id": "b24be8d8",
   "metadata": {},
   "outputs": [
    {
     "data": {
      "text/plain": [
       "'python - Pesquisa Google'"
      ]
     },
     "execution_count": 13,
     "metadata": {},
     "output_type": "execute_result"
    }
   ],
   "source": [
    "# title\n",
    "driver.title"
   ]
  },
  {
   "cell_type": "markdown",
   "id": "751328e4",
   "metadata": {},
   "source": [
    "### Métodos dos elementos"
   ]
  },
  {
   "cell_type": "code",
   "execution_count": 26,
   "id": "5036caa5",
   "metadata": {},
   "outputs": [],
   "source": [
    "elemento = driver.find_element(By.XPATH, '//textarea[@type=\"search\"]')"
   ]
  },
  {
   "cell_type": "code",
   "execution_count": 15,
   "id": "54cbe958",
   "metadata": {},
   "outputs": [
    {
     "data": {
      "text/plain": [
       "True"
      ]
     },
     "execution_count": 15,
     "metadata": {},
     "output_type": "execute_result"
    }
   ],
   "source": [
    "# is_displayed\n",
    "elemento.is_displayed()"
   ]
  },
  {
   "cell_type": "code",
   "execution_count": 17,
   "id": "8c50678a",
   "metadata": {},
   "outputs": [
    {
     "data": {
      "text/plain": [
       "'APjFqb'"
      ]
     },
     "execution_count": 17,
     "metadata": {},
     "output_type": "execute_result"
    }
   ],
   "source": [
    "# get_property\n",
    "elemento.get_property('id')"
   ]
  },
  {
   "cell_type": "code",
   "execution_count": 20,
   "id": "d57118aa",
   "metadata": {},
   "outputs": [
    {
     "data": {
      "text/plain": [
       "'yZiJbe'"
      ]
     },
     "execution_count": 20,
     "metadata": {},
     "output_type": "execute_result"
    }
   ],
   "source": [
    "# get_attribute\n",
    "elemento.get_attribute('jsname')"
   ]
  },
  {
   "cell_type": "code",
   "execution_count": 21,
   "id": "ea038bdd",
   "metadata": {},
   "outputs": [],
   "source": [
    "# click\n",
    "elemento.click()"
   ]
  },
  {
   "cell_type": "code",
   "execution_count": 22,
   "id": "726646a9",
   "metadata": {},
   "outputs": [],
   "source": [
    "# send_keys\n",
    "elemento.send_keys('dsfsdfdsf')"
   ]
  },
  {
   "cell_type": "code",
   "execution_count": 23,
   "id": "030089cc",
   "metadata": {},
   "outputs": [],
   "source": [
    "# clear\n",
    "elemento.clear()"
   ]
  },
  {
   "cell_type": "code",
   "execution_count": 24,
   "id": "3a5badc2",
   "metadata": {},
   "outputs": [
    {
     "data": {
      "text/plain": [
       "'textarea'"
      ]
     },
     "execution_count": 24,
     "metadata": {},
     "output_type": "execute_result"
    }
   ],
   "source": [
    "# tag_name\n",
    "elemento.tag_name"
   ]
  },
  {
   "cell_type": "code",
   "execution_count": 27,
   "id": "9bc8d269",
   "metadata": {},
   "outputs": [
    {
     "data": {
      "text/plain": [
       "'python'"
      ]
     },
     "execution_count": 27,
     "metadata": {},
     "output_type": "execute_result"
    }
   ],
   "source": [
    "# text\n",
    "elemento.text"
   ]
  }
 ],
 "metadata": {
  "kernelspec": {
   "display_name": "Python 3 (ipykernel)",
   "language": "python",
   "name": "python3"
  },
  "language_info": {
   "codemirror_mode": {
    "name": "ipython",
    "version": 3
   },
   "file_extension": ".py",
   "mimetype": "text/x-python",
   "name": "python",
   "nbconvert_exporter": "python",
   "pygments_lexer": "ipython3",
   "version": "3.11.4"
  }
 },
 "nbformat": 4,
 "nbformat_minor": 5
}
