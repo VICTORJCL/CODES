{
 "cells": [
  {
   "cell_type": "code",
   "execution_count": 1,
   "id": "7d75b089",
   "metadata": {},
   "outputs": [],
   "source": [
    "from webdriver_manager.chrome import ChromeDriverManager\n",
    "from selenium import webdriver\n",
    "from selenium.webdriver.chrome.service import Service\n",
    "from selenium.webdriver.common.by import By\n",
    "\n",
    "from selenium.webdriver.support.wait import WebDriverWait\n",
    "from selenium.webdriver.support import expected_conditions as EC"
   ]
  },
  {
   "cell_type": "code",
   "execution_count": 2,
   "id": "be49b9f9",
   "metadata": {},
   "outputs": [],
   "source": [
    "service = Service(ChromeDriverManager().install())\n",
    "driver = webdriver.Chrome(service=service)"
   ]
  },
  {
   "cell_type": "markdown",
   "id": "043c6d8a",
   "metadata": {},
   "source": [
    "## ABRINDO WHATSAPPWEB"
   ]
  },
  {
   "cell_type": "code",
   "execution_count": 3,
   "id": "dfd7c4d8",
   "metadata": {},
   "outputs": [],
   "source": [
    "driver.get(\"https://web.whatsapp.com/\")"
   ]
  },
  {
   "cell_type": "markdown",
   "id": "4813b69c",
   "metadata": {},
   "source": [
    "## ESPERANDO ELE CARREGAR"
   ]
  },
  {
   "cell_type": "code",
   "execution_count": 4,
   "id": "c20b6675",
   "metadata": {},
   "outputs": [],
   "source": [
    "wait = WebDriverWait(driver, timeout=60)\n",
    "barra_lateral = wait.until(EC.presence_of_element_located((By.XPATH, '//*[@id=\"side\"]')))"
   ]
  },
  {
   "cell_type": "markdown",
   "id": "03bd7431",
   "metadata": {},
   "source": []
  },
  {
   "cell_type": "markdown",
   "id": "ea4f6b41",
   "metadata": {},
   "source": []
  }
 ],
 "metadata": {
  "kernelspec": {
   "display_name": ".venv",
   "language": "python",
   "name": "python3"
  },
  "language_info": {
   "codemirror_mode": {
    "name": "ipython",
    "version": 3
   },
   "file_extension": ".py",
   "mimetype": "text/x-python",
   "name": "python",
   "nbconvert_exporter": "python",
   "pygments_lexer": "ipython3",
   "version": "3.11.4"
  }
 },
 "nbformat": 4,
 "nbformat_minor": 5
}
