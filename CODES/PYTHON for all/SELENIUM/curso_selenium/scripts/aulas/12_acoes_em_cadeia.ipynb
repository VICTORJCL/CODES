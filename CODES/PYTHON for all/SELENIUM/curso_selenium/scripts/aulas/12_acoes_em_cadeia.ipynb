{
 "cells": [
  {
   "cell_type": "code",
   "execution_count": 1,
   "id": "5bbb166e",
   "metadata": {},
   "outputs": [],
   "source": [
    "from selenium import webdriver\n",
    "from selenium.webdriver.chrome.service import Service\n",
    "from selenium.webdriver.common.by import By\n",
    "from webdriver_manager.chrome import ChromeDriverManager\n",
    "from selenium.webdriver import Keys, ActionChains\n",
    "\n",
    "from time import sleep"
   ]
  },
  {
   "cell_type": "code",
   "execution_count": 2,
   "id": "299bdb86",
   "metadata": {},
   "outputs": [],
   "source": [
    "service = Service(ChromeDriverManager().install())\n",
    "driver = webdriver.Chrome(service=service)"
   ]
  },
  {
   "cell_type": "markdown",
   "id": "2808d15c",
   "metadata": {},
   "source": [
    "### click"
   ]
  },
  {
   "cell_type": "code",
   "execution_count": 3,
   "id": "dba10c04",
   "metadata": {},
   "outputs": [],
   "source": [
    "driver.get('https://www.google.com')"
   ]
  },
  {
   "cell_type": "code",
   "execution_count": 6,
   "id": "fd461e4b",
   "metadata": {},
   "outputs": [
    {
     "data": {
      "text/plain": [
       "<selenium.webdriver.common.action_chains.ActionChains at 0x268636bd490>"
      ]
     },
     "execution_count": 6,
     "metadata": {},
     "output_type": "execute_result"
    }
   ],
   "source": [
    "elemento = driver.find_element(By.XPATH, '//textarea[@aria-label=\"Pesquisar\"]')\n",
    "\n",
    "acao = ActionChains(driver)\n",
    "acao.click(on_element=elemento)\n",
    "acao.perform()"
   ]
  },
  {
   "cell_type": "markdown",
   "id": "4f1d8134",
   "metadata": {},
   "source": [
    "### send_keys"
   ]
  },
  {
   "cell_type": "code",
   "execution_count": 8,
   "id": "343aca77",
   "metadata": {},
   "outputs": [],
   "source": [
    "acao = ActionChains(driver)\n",
    "acao.click(on_element=elemento)\n",
    "acao.send_keys('Asimov')\n",
    "acao.perform()"
   ]
  },
  {
   "cell_type": "markdown",
   "id": "04f379f9",
   "metadata": {},
   "source": [
    "### key_down e key_up"
   ]
  },
  {
   "cell_type": "code",
   "execution_count": 10,
   "id": "64f14401",
   "metadata": {},
   "outputs": [],
   "source": [
    "acao = ActionChains(driver)\n",
    "acao.click(on_element=elemento)\n",
    "acao.key_down(Keys.SHIFT)\n",
    "acao.send_keys('asimov')\n",
    "acao.key_up(Keys.SHIFT)\n",
    "acao.perform()"
   ]
  },
  {
   "cell_type": "markdown",
   "id": "fdca9800",
   "metadata": {},
   "source": [
    "### click_and_hold"
   ]
  },
  {
   "cell_type": "code",
   "execution_count": 11,
   "id": "52a8d66a",
   "metadata": {},
   "outputs": [],
   "source": [
    "driver.get('https://selenium.dev/selenium/web/mouse_interaction.html')"
   ]
  },
  {
   "cell_type": "code",
   "execution_count": 13,
   "id": "39a08bb9",
   "metadata": {},
   "outputs": [],
   "source": [
    "clickable = driver.find_element(By.ID, 'clickable')\n",
    "acao = ActionChains(driver)\n",
    "acao.click_and_hold(clickable)\n",
    "acao.perform()"
   ]
  },
  {
   "cell_type": "markdown",
   "id": "05d63896",
   "metadata": {},
   "source": [
    "### double_click"
   ]
  },
  {
   "cell_type": "code",
   "execution_count": null,
   "id": "69d562a5",
   "metadata": {},
   "outputs": [],
   "source": [
    "driver.get('https://selenium.dev/selenium/web/mouse_interaction.html')"
   ]
  },
  {
   "cell_type": "code",
   "execution_count": 14,
   "id": "db7e8c97",
   "metadata": {},
   "outputs": [],
   "source": [
    "clickable = driver.find_element(By.ID, 'clickable')\n",
    "ActionChains(driver).double_click(clickable).perform()"
   ]
  },
  {
   "cell_type": "markdown",
   "id": "4a575cc1",
   "metadata": {},
   "source": [
    "### drag_and_drop"
   ]
  },
  {
   "cell_type": "code",
   "execution_count": 11,
   "id": "a1107050",
   "metadata": {},
   "outputs": [],
   "source": [
    "driver.get('https://selenium.dev/selenium/web/mouse_interaction.html')"
   ]
  },
  {
   "cell_type": "code",
   "execution_count": 15,
   "id": "9d550a93",
   "metadata": {},
   "outputs": [],
   "source": [
    "draggable = driver.find_element(By.ID, 'draggable')\n",
    "droppable = driver.find_element(By.ID, 'droppable')\n",
    "\n",
    "acao = ActionChains(driver)\n",
    "acao.drag_and_drop(draggable, droppable)\n",
    "acao.perform()"
   ]
  },
  {
   "cell_type": "markdown",
   "id": "95e3497e",
   "metadata": {},
   "source": [
    "### scroll_to_element"
   ]
  },
  {
   "cell_type": "code",
   "execution_count": 17,
   "id": "703a1784",
   "metadata": {},
   "outputs": [],
   "source": [
    "driver.get('https://www.globo.com')"
   ]
  },
  {
   "cell_type": "code",
   "execution_count": 19,
   "id": "694c5ebf",
   "metadata": {},
   "outputs": [],
   "source": [
    "elemento = driver.find_element(By.XPATH, '//h2[@aria-label=\"A gente explica\"]')\n",
    "\n",
    "acao = ActionChains(driver)\n",
    "acao.scroll_to_element(elemento)\n",
    "acao.perform()"
   ]
  },
  {
   "cell_type": "markdown",
   "id": "201bca74",
   "metadata": {},
   "source": [
    "### Keys"
   ]
  },
  {
   "cell_type": "code",
   "execution_count": 21,
   "id": "a8470138",
   "metadata": {},
   "outputs": [
    {
     "data": {
      "text/plain": [
       "'\\ue008'"
      ]
     },
     "execution_count": 21,
     "metadata": {},
     "output_type": "execute_result"
    }
   ],
   "source": [
    "Keys.SPACE"
   ]
  }
 ],
 "metadata": {
  "kernelspec": {
   "display_name": "Python 3 (ipykernel)",
   "language": "python",
   "name": "python3"
  },
  "language_info": {
   "codemirror_mode": {
    "name": "ipython",
    "version": 3
   },
   "file_extension": ".py",
   "mimetype": "text/x-python",
   "name": "python",
   "nbconvert_exporter": "python",
   "pygments_lexer": "ipython3",
   "version": "3.11.4"
  }
 },
 "nbformat": 4,
 "nbformat_minor": 5
}
