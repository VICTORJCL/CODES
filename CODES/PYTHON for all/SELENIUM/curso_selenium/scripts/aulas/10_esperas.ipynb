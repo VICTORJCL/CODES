{
 "cells": [
  {
   "cell_type": "code",
   "execution_count": 2,
   "id": "5bbb166e",
   "metadata": {},
   "outputs": [],
   "source": [
    "from selenium import webdriver\n",
    "from selenium.webdriver.chrome.service import Service\n",
    "from selenium.webdriver.common.by import By\n",
    "from webdriver_manager.chrome import ChromeDriverManager\n",
    "\n",
    "from selenium.webdriver.support.wait import WebDriverWait\n",
    "from selenium.webdriver.support import expected_conditions as EC\n",
    "\n",
    "from time import sleep"
   ]
  },
  {
   "cell_type": "code",
   "execution_count": 3,
   "id": "299bdb86",
   "metadata": {},
   "outputs": [],
   "source": [
    "service = Service(ChromeDriverManager().install())\n",
    "driver = webdriver.Chrome(service=service)"
   ]
  },
  {
   "cell_type": "code",
   "execution_count": 4,
   "id": "dba10c04",
   "metadata": {},
   "outputs": [],
   "source": [
    "driver.get('https://www.selenium.dev/selenium/web/dynamic.html')"
   ]
  },
  {
   "cell_type": "markdown",
   "id": "fdca9800",
   "metadata": {},
   "source": [
    "### Localizando elemento X Localizando com espera Explícita"
   ]
  },
  {
   "cell_type": "code",
   "execution_count": 5,
   "id": "0e375e46",
   "metadata": {},
   "outputs": [],
   "source": [
    "xpath_botao_box = '//input[@id=\"adder\"]'\n",
    "xpath_botao_input = '//input[@id=\"reveal\"]'\n",
    "xpath_text_input = '//input[@id=\"revealed\"]'\n",
    "xpath_box = '//div[@id=\"box0\"]'"
   ]
  },
  {
   "cell_type": "code",
   "execution_count": 8,
   "id": "8de2dcfc",
   "metadata": {},
   "outputs": [],
   "source": [
    "botao_caixa = driver.find_element(By.XPATH, xpath_botao_box)\n",
    "botao_caixa.click()\n",
    "sleep(5)\n",
    "element = driver.find_element(By.XPATH, xpath_box)"
   ]
  },
  {
   "cell_type": "code",
   "execution_count": 9,
   "id": "392406f9",
   "metadata": {},
   "outputs": [],
   "source": [
    "botao_caixa = driver.find_element(By.XPATH, xpath_botao_box)\n",
    "botao_caixa.click()\n",
    "\n",
    "wait = WebDriverWait(driver, timeout=10)\n",
    "elemento = wait.until(EC.presence_of_element_located((By.XPATH, xpath_box)))"
   ]
  },
  {
   "cell_type": "markdown",
   "id": "a3dd31b5",
   "metadata": {},
   "source": [
    "### Esperando modificaçao do estado para continuar"
   ]
  },
  {
   "cell_type": "code",
   "execution_count": 17,
   "id": "889e256d",
   "metadata": {},
   "outputs": [],
   "source": [
    "botao_input = driver.find_element(By.XPATH, xpath_botao_input)\n",
    "botao_input.click()\n",
    "\n",
    "text_input = driver.find_element(By.XPATH, xpath_text_input)\n",
    "text_input.send_keys('esadfsd')"
   ]
  },
  {
   "cell_type": "code",
   "execution_count": 15,
   "id": "d438cfb1",
   "metadata": {},
   "outputs": [],
   "source": [
    "botao_input = driver.find_element(By.XPATH, xpath_botao_input)\n",
    "botao_input.click()\n",
    "\n",
    "wait = WebDriverWait(driver, timeout=10)\n",
    "wait.until(EC.visibility_of_element_located((By.XPATH, xpath_text_input)))\n",
    "\n",
    "text_input = driver.find_element(By.XPATH, xpath_text_input)\n",
    "text_input.send_keys('esadfsd')"
   ]
  },
  {
   "cell_type": "markdown",
   "id": "b18583ee",
   "metadata": {},
   "source": [
    "### Espera ímplicita"
   ]
  },
  {
   "cell_type": "code",
   "execution_count": 16,
   "id": "8ef8561c",
   "metadata": {},
   "outputs": [],
   "source": [
    "driver.implicitly_wait(2)"
   ]
  }
 ],
 "metadata": {
  "kernelspec": {
   "display_name": "Python 3 (ipykernel)",
   "language": "python",
   "name": "python3"
  },
  "language_info": {
   "codemirror_mode": {
    "name": "ipython",
    "version": 3
   },
   "file_extension": ".py",
   "mimetype": "text/x-python",
   "name": "python",
   "nbconvert_exporter": "python",
   "pygments_lexer": "ipython3",
   "version": "3.11.4"
  }
 },
 "nbformat": 4,
 "nbformat_minor": 5
}
