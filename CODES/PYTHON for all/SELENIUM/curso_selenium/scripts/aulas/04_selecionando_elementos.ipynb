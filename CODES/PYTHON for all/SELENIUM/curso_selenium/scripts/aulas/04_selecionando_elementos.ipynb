{
 "cells": [
  {
   "cell_type": "code",
   "execution_count": 1,
   "id": "ae9ba2b4-2a3f-43da-b998-7940714d77b4",
   "metadata": {},
   "outputs": [],
   "source": [
    "from selenium import webdriver\n",
    "from selenium.webdriver.chrome.service import Service\n",
    "from selenium.webdriver.common.by import By\n",
    "from webdriver_manager.chrome import ChromeDriverManager\n",
    "\n",
    "service = Service(ChromeDriverManager().install())\n",
    "driver = webdriver.Chrome(service=service)"
   ]
  },
  {
   "cell_type": "markdown",
   "id": "bdc04534",
   "metadata": {},
   "source": [
    "## Abrindo site do ibge.gov.br"
   ]
  },
  {
   "cell_type": "code",
   "execution_count": 2,
   "id": "ec98686e",
   "metadata": {},
   "outputs": [],
   "source": [
    "driver.get(\"https://www.ibge.gov.br\")"
   ]
  },
  {
   "cell_type": "markdown",
   "id": "8e7a2c1c",
   "metadata": {},
   "source": [
    "## Localizando elemento por ID "
   ]
  },
  {
   "cell_type": "code",
   "execution_count": 7,
   "id": "7775b956",
   "metadata": {},
   "outputs": [],
   "source": [
    "barrra_busca = driver.find_element(By.ID, \"mod-search-searchword\")"
   ]
  },
  {
   "cell_type": "code",
   "execution_count": 8,
   "id": "0eb8fa6d",
   "metadata": {},
   "outputs": [],
   "source": [
    "barrra_busca.send_keys(\"Inflação\")"
   ]
  },
  {
   "cell_type": "code",
   "execution_count": 9,
   "id": "5bd73128",
   "metadata": {},
   "outputs": [],
   "source": [
    "barrra_busca.clear()"
   ]
  },
  {
   "cell_type": "markdown",
   "id": "2d08b02b",
   "metadata": {},
   "source": [
    "## Localizando elemento por Name"
   ]
  },
  {
   "cell_type": "code",
   "execution_count": 10,
   "id": "ec0338da",
   "metadata": {},
   "outputs": [],
   "source": [
    "barrra_busca = driver.find_element(By.NAME, \"searchword\")"
   ]
  },
  {
   "cell_type": "code",
   "execution_count": 11,
   "id": "43bcfa62",
   "metadata": {},
   "outputs": [],
   "source": [
    "barrra_busca.send_keys(\"População\")"
   ]
  },
  {
   "cell_type": "code",
   "execution_count": 12,
   "id": "5c76fc9c",
   "metadata": {},
   "outputs": [],
   "source": [
    "barrra_busca.clear()"
   ]
  },
  {
   "cell_type": "markdown",
   "id": "13775089",
   "metadata": {},
   "source": [
    "## Localizando elemento por classe"
   ]
  },
  {
   "cell_type": "code",
   "execution_count": 13,
   "id": "deadc76c",
   "metadata": {},
   "outputs": [],
   "source": [
    "data_noticia = driver.find_element(By.CLASS_NAME, 'home-noticia-data')"
   ]
  },
  {
   "cell_type": "code",
   "execution_count": 14,
   "id": "1884be93",
   "metadata": {},
   "outputs": [
    {
     "data": {
      "text/plain": [
       "'17/10/2023'"
      ]
     },
     "execution_count": 14,
     "metadata": {},
     "output_type": "execute_result"
    }
   ],
   "source": [
    "data_noticia.text"
   ]
  },
  {
   "cell_type": "markdown",
   "id": "23073b88",
   "metadata": {},
   "source": [
    "## Localizando múltiplos elementos"
   ]
  },
  {
   "cell_type": "code",
   "execution_count": 15,
   "id": "4c461fee",
   "metadata": {},
   "outputs": [
    {
     "data": {
      "text/plain": [
       "[<selenium.webdriver.remote.webelement.WebElement (session=\"0e289b41a8c03eae12de85de269742e1\", element=\"74D053D173E8C48F7B6331A1DBFC07E6_element_290\")>,\n",
       " <selenium.webdriver.remote.webelement.WebElement (session=\"0e289b41a8c03eae12de85de269742e1\", element=\"74D053D173E8C48F7B6331A1DBFC07E6_element_314\")>,\n",
       " <selenium.webdriver.remote.webelement.WebElement (session=\"0e289b41a8c03eae12de85de269742e1\", element=\"74D053D173E8C48F7B6331A1DBFC07E6_element_319\")>,\n",
       " <selenium.webdriver.remote.webelement.WebElement (session=\"0e289b41a8c03eae12de85de269742e1\", element=\"74D053D173E8C48F7B6331A1DBFC07E6_element_327\")>]"
      ]
     },
     "execution_count": 15,
     "metadata": {},
     "output_type": "execute_result"
    }
   ],
   "source": [
    "data_noticias = driver.find_elements(By.CLASS_NAME, 'home-noticia-data')\n",
    "data_noticias"
   ]
  },
  {
   "cell_type": "code",
   "execution_count": 16,
   "id": "597944f7",
   "metadata": {},
   "outputs": [
    {
     "name": "stdout",
     "output_type": "stream",
     "text": [
      "17/10/2023\n",
      "17/10/2023\n",
      "11/10/2023\n",
      "11/10/2023\n"
     ]
    }
   ],
   "source": [
    "for data_noticia in data_noticias:\n",
    "    print(data_noticia.text)"
   ]
  },
  {
   "cell_type": "code",
   "execution_count": 17,
   "id": "46fe582e",
   "metadata": {},
   "outputs": [
    {
     "data": {
      "text/plain": [
       "<selenium.webdriver.remote.webelement.WebElement (session=\"0e289b41a8c03eae12de85de269742e1\", element=\"74D053D173E8C48F7B6331A1DBFC07E6_element_327\")>"
      ]
     },
     "execution_count": 17,
     "metadata": {},
     "output_type": "execute_result"
    }
   ],
   "source": [
    "data_noticias[-1]"
   ]
  },
  {
   "cell_type": "markdown",
   "id": "693a7f05",
   "metadata": {},
   "source": [
    "## Localizando elemento por tags"
   ]
  },
  {
   "cell_type": "code",
   "execution_count": 19,
   "id": "d7472af6",
   "metadata": {},
   "outputs": [
    {
     "data": {
      "text/plain": [
       "204"
      ]
     },
     "execution_count": 19,
     "metadata": {},
     "output_type": "execute_result"
    }
   ],
   "source": [
    "links = driver.find_elements(By.TAG_NAME, \"a\")\n",
    "len(links)"
   ]
  },
  {
   "cell_type": "code",
   "execution_count": 24,
   "id": "2d45e72a",
   "metadata": {},
   "outputs": [
    {
     "name": "stdout",
     "output_type": "stream",
     "text": [
      "https://www.ibge.gov.br/#conteudo\n",
      "https://gov.br/\n",
      "http://www.gov.br/acessoainformacao/\n",
      "https://www.gov.br/pt-br/participacao-social/\n",
      "http://www4.planalto.gov.br/legislacao/\n",
      "http://www.gov.br/pt-br/orgaos-do-governo\n",
      "https://www.ibge.gov.br/pt/inicio.html\n",
      "https://www.ibge.gov.br/\n",
      "https://www.ibge.gov.br/en/home-eng.html\n",
      "https://www.ibge.gov.br/acesso-informacao/institucional/o-ibge.html\n",
      "None\n",
      "https://www.ibge.gov.br/pt/inicio.html\n",
      "https://www.ibge.gov.br/\n",
      "https://www.ibge.gov.br/en/home-eng.html\n",
      "https://www.ibge.gov.br/acesso-informacao/institucional/o-ibge.html\n",
      "None\n",
      "https://www.ibge.gov.br/estatisticas/sociais/populacao.html\n",
      "https://www.ibge.gov.br/estatisticas/sociais/trabalho.html\n",
      "https://www.ibge.gov.br/estatisticas/sociais/educacao.html\n",
      "https://www.ibge.gov.br/estatisticas/sociais/saude.html\n",
      "https://www.ibge.gov.br/estatisticas/sociais/habitacao.html\n",
      "https://www.ibge.gov.br/estatisticas/sociais/rendimento-despesa-e-consumo.html\n",
      "https://www.ibge.gov.br/estatisticas/sociais/administracao-publica-e-participacao-politica.html\n",
      "https://www.ibge.gov.br/estatisticas/sociais/justica-e-seguranca.html\n",
      "https://www.ibge.gov.br/estatisticas/sociais/protecao-social.html\n",
      "https://www.ibge.gov.br/estatisticas/economicas/agricultura-e-pecuaria.html\n",
      "https://www.ibge.gov.br/estatisticas/economicas/industria.html\n",
      "https://www.ibge.gov.br/estatisticas/economicas/comercio.html\n",
      "https://www.ibge.gov.br/estatisticas/economicas/servicos.html\n",
      "https://www.ibge.gov.br/estatisticas/economicas/precos-e-custos.html\n",
      "https://www.ibge.gov.br/estatisticas/economicas/setor-informal.html\n",
      "https://www.ibge.gov.br/estatisticas/economicas/contas-nacionais.html\n",
      "https://www.ibge.gov.br/estatisticas/economicas/financas-publicas.html\n",
      "https://www.ibge.gov.br/estatisticas/economicas/outras-estatisticas-economicas.html\n",
      "https://www.ibge.gov.br/estatisticas/multidominio/condicoes-de-vida-desigualdade-e-pobreza.html\n",
      "https://www.ibge.gov.br/estatisticas/multidominio/ciencia-tecnologia-e-inovacao.html\n",
      "https://www.ibge.gov.br/estatisticas/multidominio/empreendedorismo.html\n",
      "https://www.ibge.gov.br/estatisticas/multidominio/genero.html\n",
      "https://www.ibge.gov.br/estatisticas/multidominio/cultura-recreacao-e-esporte.html\n",
      "https://www.ibge.gov.br/estatisticas/multidominio/turismo.html\n",
      "https://www.ibge.gov.br/estatisticas/multidominio/meio-ambiente.html\n",
      "https://www.ibge.gov.br/estatisticas/metodos-e-classificacoes/classificacoes-e-listas-estatisticas.html\n",
      "https://www.ibge.gov.br/estatisticas/metodos-e-classificacoes/outros-documentos.html\n",
      "https://www.ibge.gov.br/estatisticas/investigacoes-experimentais/estatisticas-experimentais.html\n",
      "https://www.ibge.gov.br/estatisticas/todos-os-produtos-estatisticas.html\n",
      "https://www.ibge.gov.br/estatisticas/downloads-estatisticas.html\n",
      "https://www.ibge.gov.br/geociencias/organizacao-do-territorio/estrutura-territorial.html\n",
      "https://www.ibge.gov.br/geociencias/organizacao-do-territorio/malhas-territoriais.html\n",
      "https://www.ibge.gov.br/geociencias/organizacao-do-territorio/divisao-regional.html\n",
      "https://www.ibge.gov.br/geociencias/organizacao-do-territorio/analises-do-territorio.html\n",
      "https://www.ibge.gov.br/geociencias/organizacao-do-territorio/tipologias-do-territorio.html\n",
      "https://www.ibge.gov.br/geociencias/organizacao-do-territorio/redes-e-fluxos-geograficos.html\n",
      "https://www.ibge.gov.br/geociencias/informacoes-sobre-posicionamento-geodesico/rede-geodesica.html\n",
      "https://www.ibge.gov.br/geociencias/informacoes-sobre-posicionamento-geodesico/sirgas.html\n",
      "https://www.ibge.gov.br/geociencias/informacoes-sobre-posicionamento-geodesico/servicos-para-posicionamento-geodesico.html\n",
      "https://www.ibge.gov.br/geociencias/atlas/nacional.html\n",
      "https://www.ibge.gov.br/geociencias/atlas/tematicos.html\n",
      "https://www.ibge.gov.br/geociencias/modelos-digitais-de-superficie/modelos-digitais-de-superficie.html\n",
      "https://www.ibge.gov.br/geociencias/cartas-e-mapas/bases-cartograficas-continuas.html\n",
      "https://www.ibge.gov.br/geociencias/cartas-e-mapas/folhas-topograficas.html\n",
      "https://www.ibge.gov.br/geociencias/cartas-e-mapas/mapas-regionais.html\n",
      "https://www.ibge.gov.br/geociencias/cartas-e-mapas/mapas-estaduais.html\n",
      "https://www.ibge.gov.br/geociencias/cartas-e-mapas/mapas-municipais.html\n",
      "https://www.ibge.gov.br/geociencias/cartas-e-mapas/informacoes-ambientais.html\n",
      "https://www.ibge.gov.br/geociencias/cartas-e-mapas/mapas-de-referencia.html\n",
      "https://www.ibge.gov.br/geociencias/cartas-e-mapas/sociedade-e-economia.html\n",
      "https://www.ibge.gov.br/geociencias/cartas-e-mapas/redes-geograficas.html\n",
      "https://www.ibge.gov.br/geociencias/cartas-e-mapas/brasil-redes-geodesicas.html\n",
      "https://www.ibge.gov.br/geociencias/imagens-do-territorio/imagens-corrigidas.html\n",
      "https://www.ibge.gov.br/geociencias/informacoes-ambientais/estatisticas-e-indicadores-ambientais.html\n",
      "https://www.ibge.gov.br/geociencias/informacoes-ambientais/estudos-ambientais.html\n",
      "https://www.ibge.gov.br/geociencias/informacoes-ambientais/cobertura-e-uso-da-terra.html\n",
      "https://www.ibge.gov.br/geociencias/informacoes-ambientais/biodiversidade.html\n",
      "https://www.ibge.gov.br/geociencias/informacoes-ambientais/climatologia.html\n",
      "https://www.ibge.gov.br/geociencias/informacoes-ambientais/geologia.html\n",
      "https://www.ibge.gov.br/geociencias/informacoes-ambientais/geomorfologia.html\n",
      "https://www.ibge.gov.br/geociencias/informacoes-ambientais/pedologia.html\n",
      "https://www.ibge.gov.br/geociencias/informacoes-ambientais/vegetacao.html\n",
      "https://www.ibge.gov.br/geociencias/metodos-e-outros-documentos-de-referencia/normas.html\n",
      "https://www.ibge.gov.br/geociencias/metodos-e-outros-documentos-de-referencia/revista-e-manuais-tecnicos.html\n",
      "https://www.ibge.gov.br/geociencias/metodos-e-outros-documentos-de-referencia/vocabulario-e-glossarios.html\n",
      "https://www.ibge.gov.br/geociencias/metodos-e-outros-documentos-de-referencia/outros-documentos-tecnicos-geo.html\n",
      "https://www.ibge.gov.br/geociencias/todos-os-produtos-geociencias.html\n",
      "https://www.ibge.gov.br/geociencias/downloads-geociencias.html\n",
      "https://www.ibge.gov.br/indicadores.html?view=default\n",
      "https://www.ibge.gov.br/cidades-e-estados.html?view=municipio\n",
      "http://agenciadenoticias.ibge.gov.br/\n",
      "http://biblioteca.ibge.gov.br/\n",
      "http://respondendo.ibge.gov.br/\n",
      "https://sidra.ibge.gov.br/\n",
      "https://portaldemapas.ibge.gov.br/portal.php\n",
      "https://cidades.ibge.gov.br/\n",
      "https://www.ibge.gov.br/portal-nossos-sites/nossos-sites.html\n",
      "https://www.ibge.gov.br/calendario-de-divulgacoes-novoportal.html?view=mensal\n",
      "https://www.gov.br/pt-br/orgaos/fundacao-instituto-brasileiro-de-geografia-e-estatistica\n",
      "https://www.ibge.gov.br/acesso-informacao/institucional/o-ibge.html\n",
      "https://www.ibge.gov.br/acesso-informacao/acoes-e-programas.html\n",
      "https://www.ibge.gov.br/acesso-informacao/participacao-social.html\n",
      "https://www.ibge.gov.br/acesso-informacao/auditorias.html\n",
      "https://www.ibge.gov.br/acesso-informacao/convenios.html\n",
      "https://www.ibge.gov.br/acesso-informacao/receita-despesas.html\n",
      "https://www.ibge.gov.br/acesso-informacao/licitacoes-e-contratos.html\n",
      "https://www.ibge.gov.br/acesso-informacao/recursos-humanos.html\n",
      "https://www.ibge.gov.br/acesso-informacao/informacoes-classificadas.html\n",
      "https://www.ibge.gov.br/acesso-informacao/atendimento.html\n",
      "https://www.ibge.gov.br/acesso-informacao/perguntas-frequentes.html\n",
      "https://www.ibge.gov.br/acesso-informacao/dados-abertos.html\n",
      "https://www.ibge.gov.br/acesso-informacao/tratamento-de-dados-pessoais.html\n",
      "https://www.ibge.gov.br/acesso-informacao/atos-normativos.html\n",
      "https://www.ibge.gov.br/acesso-informacao/sala-de-acesso-a-dados-restritos.html\n",
      "https://www.ibge.gov.br/acesso-informacao/estatisticas.html\n",
      "https://www.ibge.gov.br/acesso-informacao/transparencia-e-prestacao-de-contas.html\n",
      "https://censo2022.ibge.gov.br/panorama/?utm_source=ibge&utm_medium=home&utm_campaign=portal\n",
      "https://www.ibge.gov.br/indicadores#ipca\n",
      "https://www.ibge.gov.br/indicadores#variacao-do-pib\n",
      "https://www.ibge.gov.br/indicadores#desemprego\n",
      "https://www.ibge.gov.br/indicadores#inpc\n",
      "https://www.ibge.gov.br/indicadores#ipca-15\n",
      "https://www.ibge.gov.br/indicadores#ipp\n",
      "https://www.ibge.gov.br/indicadores#ipca\n",
      "https://www.ibge.gov.br/indicadores#industria\n",
      "https://www.ibge.gov.br/indicadores#comercio\n",
      "https://www.ibge.gov.br/indicadores#servicos\n",
      "https://www.ibge.gov.br/indicadores#custo-do-m2\n",
      "None\n",
      "None\n",
      "https://www.ibge.gov.br/indicadores.html\n",
      "https://censo2022.ibge.gov.br/panorama/\n",
      "https://agenciadenoticias.ibge.gov.br/agencia-sala-de-imprensa/2012-agencia-de-noticias/noticias/38135-ibge-estara-presente-na-edicao-de-porto-alegre-rs-da-caravana-federativa.html\n",
      "https://agenciadenoticias.ibge.gov.br/agencia-sala-de-imprensa/2013-agencia-de-noticias/releases/38125-volume-dos-servicos-recua-0-9-em-agosto.html\n",
      "https://agenciadenoticias.ibge.gov.br/agencia-sala-de-imprensa/2013-agencia-de-noticias/releases/38092-ipca-foi-de-0-26-em-setembro.html\n",
      "https://agenciadenoticias.ibge.gov.br/agencia-sala-de-imprensa/2013-agencia-de-noticias/releases/38089-em-setembro-indice-nacional-da-construcao-civil-varia-0-02.html\n",
      "https://agenciadenoticias.ibge.gov.br/\n",
      "https://www.ibge.gov.br/novo-portal-destaques.html?destaque=38116\n",
      "https://www.ibge.gov.br/novo-portal-destaques.html?destaque=38115\n",
      "https://www.ibge.gov.br/novo-portal-destaques.html?destaque=38049\n",
      "https://www.ibge.gov.br/novo-portal-destaques.html?destaque=38047\n",
      "https://www.ibge.gov.br/novo-portal-destaques.html\n",
      "https://www.ibge.gov.br/cidades-e-estados\n",
      "None\n",
      "https://www.ibge.gov.br/cidades-e-estados.html?c=2211001\n",
      "None\n",
      "https://respondendo.ibge.gov.br/\n",
      "https://censo2022.ibge.gov.br/\n",
      "https://sidra.ibge.gov.br/\n",
      "https://portaldemapas.ibge.gov.br/portal.php\n",
      "https://educa.ibge.gov.br/\n",
      "https://loja.ibge.gov.br/\n",
      "https://odsbrasil.gov.br/\n",
      "https://www.ence.ibge.gov.br/\n",
      "https://www.ibge.gov.br/portal-nossos-sites/nossos-sites.html\n",
      "None\n",
      "https://www.ibge.gov.br/estatisticas/economicas/servicos/9229-pesquisa-mensal-de-servicos.html\n",
      "https://www.ibge.gov.br/estatisticas/economicas/comercio/9227-pesquisa-mensal-de-comercio.html\n",
      "https://www.ibge.gov.br/calendario-de-divulgacoes-novoportal.html\n",
      "https://www.ibge.gov.br/estatisticas/economicas/precos-e-custos/9282-indice-de-precos-ao-produtor-industrias-extrativas-e-de-transformacao.html\n",
      "https://www.ibge.gov.br/estatisticas/economicas/precos-e-custos/9260-indice-nacional-de-precos-ao-consumidor-amplo-15.html\n",
      "https://www.ibge.gov.br/estatisticas/sociais/trabalho/22827-censo-demografico-2022.html\n",
      "https://www.ibge.gov.br/estatisticas/sociais/trabalho/9171-pesquisa-nacional-por-amostra-de-domicilios-continua-mensal.html\n",
      "https://www.ibge.gov.br/estatisticas/economicas/industria/9294-pesquisa-industrial-mensal-producao-fisica-brasil.html\n",
      "None\n",
      "None\n",
      "https://www.ibge.gov.br/calendario-de-divulgacoes-novoportal.html\n",
      "None\n",
      "https://www.ibge.gov.br/videos.html?pagina=1&lista=explica&video=lVjPv33T0hk\n",
      "https://www.ibge.gov.br/videos.html?pagina=1&lista=explica&video=944F0paMei0\n",
      "https://www.ibge.gov.br/videos.html?pagina=1&lista=explica&video=JVcDZOlIMBk\n",
      "https://www.ibge.gov.br/videos.html?pagina=1&lista=explica&video=OymHhJp7QaA\n",
      "https://www.ibge.gov.br/videos.html\n",
      "https://www.ibge.gov.br/novo-portal-erramos.html#38117\n",
      "https://www.ibge.gov.br/novo-portal-erramos.html#38050\n",
      "https://www.ibge.gov.br/novo-portal-erramos.html#38048\n",
      "https://www.ibge.gov.br/novo-portal-erramos.html#38018\n",
      "https://www.ibge.gov.br/novo-portal-erramos.html\n",
      "https://www.ibge.gov.br/novo-portal-estatisticas-do-site.html\n",
      "https://www.ibge.gov.br/acesso-informacao/acoes-e-programas/pesquisa-de-avaliacao-de-servicos.html\n",
      "https://www.ibge.gov.br/acesso-informacao/transparencia-e-prestacao-de-contas.html\n",
      "http://www.comprasnet.gov.br/\n",
      "https://www.ibge.gov.br/acesso-informacao/institucional/trabalhe-conosco.html\n",
      "https://www.ibge.gov.br/links-ibge.html\n",
      "http://www.facebook.com/ibgeoficial\n",
      "https://instagram.com/ibgeoficial\n",
      "https://www.tiktok.com/@ibgeoficial\n",
      "https://twitter.com/ibgecomunica\n",
      "http://www.youtube.com/ibgeoficial\n",
      "https://www.ibge.gov.br/atendimento.html\n",
      "tel:08007218181\n",
      "https://www.ibge.gov.br/acesso-informacao/participacao-social/ouvidoria.html\n",
      "https://itunes.apple.com/br/app/ibge/id1046974846?mt=8\n",
      "https://play.google.com/store/apps/details?id=br.gov.ibge&hl=pt\n",
      "https://www.gov.br/acessoainformacao/pt-br\n",
      "http://www.transparencia.gov.br/\n",
      "https://transparenciasda.ibge.gov.br/\n",
      "https://www.ibge.gov.br/acesso-informacao/acoes-e-programas/politica-de-privacidade.html\n",
      "https://www.gov.br/pt-br/orgaos-do-governo\n",
      "http://www.facebook.com/ibgeoficial\n",
      "https://instagram.com/ibgeoficial\n",
      "https://www.tiktok.com/@ibgeoficial\n",
      "https://twitter.com/ibgecomunica\n",
      "http://www.youtube.com/ibgeoficial\n",
      "https://www.gov.br/pt-br\n",
      "https://www.gov.br/acessoainformacao/pt-br\n",
      "https://www.rededecontrole.gov.br/\n",
      "https://www.ibge.gov.br/acesso-informacao/acoes-e-programas/politica-de-privacidade.html\n"
     ]
    }
   ],
   "source": [
    "for link in links:\n",
    "    print(link.get_attribute('href'))"
   ]
  },
  {
   "cell_type": "code",
   "execution_count": null,
   "id": "73b5c793",
   "metadata": {},
   "outputs": [],
   "source": []
  }
 ],
 "metadata": {
  "kernelspec": {
   "display_name": "Python 3 (ipykernel)",
   "language": "python",
   "name": "python3"
  },
  "language_info": {
   "codemirror_mode": {
    "name": "ipython",
    "version": 3
   },
   "file_extension": ".py",
   "mimetype": "text/x-python",
   "name": "python",
   "nbconvert_exporter": "python",
   "pygments_lexer": "ipython3",
   "version": "3.11.4"
  }
 },
 "nbformat": 4,
 "nbformat_minor": 5
}
