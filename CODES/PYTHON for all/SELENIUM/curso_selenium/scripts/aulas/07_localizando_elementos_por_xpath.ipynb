{
 "cells": [
  {
   "cell_type": "code",
   "execution_count": 1,
   "id": "5bbb166e",
   "metadata": {},
   "outputs": [],
   "source": [
    "from selenium import webdriver\n",
    "from selenium.webdriver.chrome.service import Service\n",
    "from selenium.webdriver.common.by import By\n",
    "from webdriver_manager.chrome import ChromeDriverManager"
   ]
  },
  {
   "cell_type": "code",
   "execution_count": 2,
   "id": "ae9ba2b4-2a3f-43da-b998-7940714d77b4",
   "metadata": {},
   "outputs": [],
   "source": [
    "service = Service(ChromeDriverManager().install())\n",
    "driver = webdriver.Chrome(service=service)\n",
    "\n",
    "driver.get('https://www.globo.com')"
   ]
  },
  {
   "cell_type": "code",
   "execution_count": 6,
   "id": "0e849504",
   "metadata": {},
   "outputs": [],
   "source": [
    "span_esporte = driver.find_element(By.XPATH, '//span[text()=\"Esporte\"]')\n",
    "span_esporte.click()"
   ]
  },
  {
   "cell_type": "code",
   "execution_count": 9,
   "id": "6a80b0fc",
   "metadata": {},
   "outputs": [
    {
     "name": "stdout",
     "output_type": "stream",
     "text": [
      "Homem diz a esposa que foi sequestrado e é encontrado em motel na PB; vídeo\n",
      "Rapper LK Metralha é baleado e morto pela PM durante abordagem na Grande SP\n",
      "Vídeo: artista de rua registra momento em que é 'apalpada' por 2 homens enquanto cantava\n",
      "Menino morre após rede de janela romper e ele cair do 3º andar de prédio em GO\n",
      "Garoto de 15 anos é agredido por pai em SP após acionar Justiça por pensão; vídeo\n",
      "Casamento de milionários que durou 3 dias no Pantanal, MS, teve visita surpresa de Sucuri enorme\n",
      "Mãe e filha são presas suspeitas de mandar matar mulher que foi espancada com capacete\n",
      "Homem é suspeito de incendiar casa e matar 6 gatos da ex após término em SC\n",
      "Mãe cria apoio na web ao cuidar do filho em coma há dois anos: 'Isso me dá força'\n",
      "Grazi compartilha vídeo de influencer zoando propaganda com caju invertido: 'Polêmica'\n"
     ]
    }
   ],
   "source": [
    "titulos_jornalismo = driver.find_elements(By.XPATH, '//div[@id=\"column-jornalismo\"]//h2[@class=\"post__title\"]')\n",
    "for titulo in titulos_jornalismo:\n",
    "    print(titulo.text)"
   ]
  },
  {
   "cell_type": "code",
   "execution_count": 10,
   "id": "1c581d9e",
   "metadata": {},
   "outputs": [],
   "source": [
    "\n",
    "xpath = '//input[@id=\"header-search-input\" and @class=\"header-search__input\"]'\n",
    "input_pesquisa = driver.find_element(By.XPATH, xpath)\n",
    "input_pesquisa.send_keys('oi')\n"
   ]
  },
  {
   "cell_type": "code",
   "execution_count": 12,
   "id": "54f829c3",
   "metadata": {},
   "outputs": [],
   "source": [
    "input_pesquisa.clear()"
   ]
  },
  {
   "cell_type": "code",
   "execution_count": 13,
   "id": "c9a8e2a0",
   "metadata": {},
   "outputs": [],
   "source": [
    "xpath = '//input[@placeholder=\"Encontre na globo.com\"]'\n",
    "input_pesquisa = driver.find_element(By.XPATH, xpath)\n",
    "input_pesquisa.send_keys('oi')"
   ]
  },
  {
   "cell_type": "code",
   "execution_count": 14,
   "id": "e7934065",
   "metadata": {},
   "outputs": [],
   "source": [
    "input_pesquisa.clear()"
   ]
  },
  {
   "cell_type": "code",
   "execution_count": 15,
   "id": "99c20687",
   "metadata": {},
   "outputs": [],
   "source": [
    "xpath = '//form[@id=\"header-search-section\"]/input'\n",
    "input_pesquisa = driver.find_element(By.XPATH, xpath)\n",
    "input_pesquisa.send_keys('oi')"
   ]
  },
  {
   "cell_type": "code",
   "execution_count": 19,
   "id": "5f604d1f",
   "metadata": {},
   "outputs": [
    {
     "data": {
      "text/plain": [
       "1"
      ]
     },
     "execution_count": 19,
     "metadata": {},
     "output_type": "execute_result"
    }
   ],
   "source": [
    "xpath = '//span[contains(text(), \"REAL\")]'\n",
    "span_real = driver.find_elements(By.XPATH, xpath)\n",
    "len(span_real)"
   ]
  },
  {
   "cell_type": "code",
   "execution_count": null,
   "id": "ce332693",
   "metadata": {},
   "outputs": [],
   "source": []
  }
 ],
 "metadata": {
  "kernelspec": {
   "display_name": "Python 3 (ipykernel)",
   "language": "python",
   "name": "python3"
  },
  "language_info": {
   "codemirror_mode": {
    "name": "ipython",
    "version": 3
   },
   "file_extension": ".py",
   "mimetype": "text/x-python",
   "name": "python",
   "nbconvert_exporter": "python",
   "pygments_lexer": "ipython3",
   "version": "3.11.4"
  }
 },
 "nbformat": 4,
 "nbformat_minor": 5
}
