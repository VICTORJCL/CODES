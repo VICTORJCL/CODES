{
 "cells": [
  {
   "cell_type": "code",
   "execution_count": 1,
   "id": "7d75b089",
   "metadata": {},
   "outputs": [],
   "source": [
    "from webdriver_manager.chrome import ChromeDriverManager\n",
    "from selenium import webdriver\n",
    "from selenium.webdriver.chrome.service import Service\n",
    "from selenium.webdriver.common.by import By\n",
    "\n",
    "from selenium.webdriver.support.wait import WebDriverWait\n",
    "from selenium.webdriver.support import expected_conditions as EC\n",
    "from selenium.webdriver.common.keys import Keys"
   ]
  },
  {
   "cell_type": "code",
   "execution_count": 2,
   "id": "be49b9f9",
   "metadata": {},
   "outputs": [],
   "source": [
    "service = Service(ChromeDriverManager().install())\n",
    "driver = webdriver.Chrome(service=service)"
   ]
  },
  {
   "cell_type": "markdown",
   "id": "043c6d8a",
   "metadata": {},
   "source": [
    "## ABRINDO WHATSAPPWEB"
   ]
  },
  {
   "cell_type": "code",
   "execution_count": 3,
   "id": "dfd7c4d8",
   "metadata": {},
   "outputs": [],
   "source": [
    "driver.get(\"https://web.whatsapp.com/\")"
   ]
  },
  {
   "cell_type": "markdown",
   "id": "4813b69c",
   "metadata": {},
   "source": [
    "## ESPERANDO ELE CARREGAR"
   ]
  },
  {
   "cell_type": "code",
   "execution_count": 4,
   "id": "c20b6675",
   "metadata": {},
   "outputs": [],
   "source": [
    "wait = WebDriverWait(driver, timeout=60)\n",
    "barra_lateral = wait.until(EC.presence_of_element_located((By.XPATH, '//*[@id=\"side\"]')))"
   ]
  },
  {
   "cell_type": "markdown",
   "id": "ed28f8dc",
   "metadata": {},
   "source": [
    "## ADICIONANDO UMA ESPERA GLOBAL"
   ]
  },
  {
   "cell_type": "code",
   "execution_count": 5,
   "id": "a2bc8c44",
   "metadata": {},
   "outputs": [],
   "source": [
    "driver.implicitly_wait(2)"
   ]
  },
  {
   "cell_type": "markdown",
   "id": "8d237667",
   "metadata": {},
   "source": [
    "## ABRINDO JANELA DE CONVERSA"
   ]
  },
  {
   "cell_type": "code",
   "execution_count": 6,
   "id": "a9876c8b",
   "metadata": {},
   "outputs": [],
   "source": [
    "barra_pesquisa = driver.find_element(By.XPATH, '//div[@title=\"Caixa de texto de pesquisa\"]')\n",
    "barra_pesquisa.send_keys(Keys.CONTROL + 'a')\n",
    "barra_pesquisa.send_keys(Keys.DELETE)"
   ]
  },
  {
   "cell_type": "code",
   "execution_count": 7,
   "id": "34de48c7",
   "metadata": {},
   "outputs": [],
   "source": [
    "nome_contato = \"Cliente 1\"\n",
    "barra_pesquisa = driver.find_element(By.XPATH, '//div[@title=\"Caixa de texto de pesquisa\"]')\n",
    "barra_pesquisa.send_keys(nome_contato)"
   ]
  },
  {
   "cell_type": "code",
   "execution_count": 8,
   "id": "f415a3ab",
   "metadata": {},
   "outputs": [],
   "source": [
    "wait = WebDriverWait(driver, timeout=2)\n",
    "span_buscando = '//span[@title=\"Cliente 1\"]'\n",
    "conversa_lateral = wait.until(EC.presence_of_element_located((By.XPATH, span_buscando)))\n",
    "conversa_lateral.click()"
   ]
  },
  {
   "cell_type": "markdown",
   "id": "1a952619",
   "metadata": {},
   "source": [
    "## Enviando Mensagem"
   ]
  },
  {
   "cell_type": "code",
   "execution_count": 52,
   "id": "c9264090",
   "metadata": {},
   "outputs": [],
   "source": [
    "mensagem = \"Olá\"\n",
    "\n",
    "barra_de_mensagem = driver.find_element(By.XPATH, '//div[@title=\"Digite uma mensagem\"]')\n",
    "barra_de_mensagem.send_keys(mensagem)\n",
    "barra_de_mensagem.send_keys(Keys.RETURN)"
   ]
  },
  {
   "cell_type": "markdown",
   "id": "df11ce70",
   "metadata": {},
   "source": [
    "## Enviando Documentos"
   ]
  },
  {
   "cell_type": "code",
   "execution_count": 11,
   "id": "55c00c77",
   "metadata": {},
   "outputs": [],
   "source": [
    "caminho_documento = 'C:/Users/avsoares/OneDrive/Documentos/GitHub/courses/Selenium/scripts/bot_whatsapp/catalogo.pdf'\n",
    "\n",
    "botao_anexos = driver.find_element(By.XPATH, '//div[@title=\"Anexar\"]')\n",
    "botao_anexos.click()\n",
    "\n",
    "botao_documentos = driver.find_element(By.XPATH, '//input[@accept=\"*\" and @type=\"file\"]')\n",
    "botao_documentos.send_keys(caminho_documento)\n",
    "\n",
    "bota_enviar = driver.find_element(By.XPATH, '//div[@aria-label=\"Enviar\"]')\n",
    "bota_enviar.click()"
   ]
  },
  {
   "cell_type": "markdown",
   "id": "9c91284e",
   "metadata": {},
   "source": []
  },
  {
   "cell_type": "markdown",
   "id": "03bd7431",
   "metadata": {},
   "source": []
  },
  {
   "cell_type": "markdown",
   "id": "ea4f6b41",
   "metadata": {},
   "source": []
  }
 ],
 "metadata": {
  "kernelspec": {
   "display_name": ".venv",
   "language": "python",
   "name": "python3"
  },
  "language_info": {
   "codemirror_mode": {
    "name": "ipython",
    "version": 3
   },
   "file_extension": ".py",
   "mimetype": "text/x-python",
   "name": "python",
   "nbconvert_exporter": "python",
   "pygments_lexer": "ipython3",
   "version": "3.11.4"
  }
 },
 "nbformat": 4,
 "nbformat_minor": 5
}
